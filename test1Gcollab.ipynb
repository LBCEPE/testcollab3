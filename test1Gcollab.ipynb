{
  "nbformat": 4,
  "nbformat_minor": 0,
  "metadata": {
    "colab": {
      "provenance": [],
      "authorship_tag": "ABX9TyOYgy+PHgtIYd5c6qDvW/Qf",
      "include_colab_link": true
    },
    "kernelspec": {
      "name": "ir",
      "display_name": "R"
    },
    "language_info": {
      "name": "R"
    }
  },
  "cells": [
    {
      "cell_type": "markdown",
      "metadata": {
        "id": "view-in-github",
        "colab_type": "text"
      },
      "source": [
        "<a href=\"https://colab.research.google.com/github/LBCEPE/testcollab3/blob/main/test1Gcollab.ipynb\" target=\"_parent\"><img src=\"https://colab.research.google.com/assets/colab-badge.svg\" alt=\"Open In Colab\"/></a>"
      ]
    },
    {
      "cell_type": "code",
      "execution_count": null,
      "metadata": {
        "id": "WbuuX9YWsoWS"
      },
      "outputs": [],
      "source": [
        "library(csvread)\n",
        "\n",
        "model<-lm(lm(speed~dist,data=cars))\n",
        "\n",
        "\n"
      ]
    }
  ]
}